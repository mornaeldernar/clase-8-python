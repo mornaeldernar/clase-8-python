{
 "cells": [
  {
   "cell_type": "code",
   "execution_count": 2,
   "id": "bf68fbd2",
   "metadata": {},
   "outputs": [],
   "source": [
    "import pandas as pd\n",
    "import re"
   ]
  },
  {
   "cell_type": "code",
   "execution_count": 4,
   "id": "5f820510",
   "metadata": {},
   "outputs": [
    {
     "name": "stdout",
     "output_type": "stream",
     "text": [
      "Dataset limpio:\n",
      "         nombre     telefono                     email\n",
      "0    Juan Perez  91-555-1234          juan@company.com\n",
      "1    Ana Garcia  91-555-1235    ana.garcia@company.com\n",
      "2  Carlos Lopez  91-555-1236  carlos.lopez@company.com\n"
     ]
    }
   ],
   "source": [
    "# TODO: Dado el siguiente dataset sucio, limpia y estandariza:\n",
    "contactos_sucios = pd.DataFrame({\n",
    "    'nombre': ['  juan perez  ', 'ANA GARCIA', 'carlos LOPEZ'],\n",
    "    'telefono': ['91 555 1234', '915551235', '91-555-1236'],\n",
    "    'email': ['juan@COMPANY.COM', 'ana.garcia@company', 'carlos.lopez@company.com']\n",
    "})\n",
    "\n",
    "# 1. Estandarizar nombres (Title Case, sin espacios extra)\n",
    "# 2. Formatear teléfonos como XX-XXX-XXXX\n",
    "# 3. Normalizar emails (minúsculas, agregar .com si falta)\n",
    "\n",
    "# Tu solución aquí:\n",
    "contactos_limpios = contactos_sucios.copy()\n",
    "def limpiar_nombre(nombre):\n",
    "    return nombre.strip().title()\n",
    "contactos_limpios['nombre'] = contactos_limpios['nombre'].apply(limpiar_nombre)\n",
    "\n",
    "def formatear_telefono(telefono):\n",
    "    digitos = re.sub(r'\\D', '', telefono)  # Eliminar no dígitos\n",
    "    if len(digitos) == 9:\n",
    "        return f\"{digitos[:2]}-{digitos[2:5]}-{digitos[5:]}\"\n",
    "    return telefono  # Si no es válido, devolver original\n",
    "    \n",
    "contactos_limpios['telefono'] = contactos_limpios['telefono'].apply(formatear_telefono)\n",
    "\n",
    "def normalizar_email(email):\n",
    "    email = email.strip().lower()\n",
    "    if not email.endswith('.com'):\n",
    "        email += '.com'\n",
    "    return email\n",
    "contactos_limpios['email'] = contactos_limpios['email'].apply(normalizar_email)\n",
    "print(\"Dataset limpio:\")\n",
    "print(contactos_limpios)"
   ]
  },
  {
   "cell_type": "code",
   "execution_count": 6,
   "id": "9bce364b",
   "metadata": {},
   "outputs": [
    {
     "name": "stdout",
     "output_type": "stream",
     "text": [
      "Dataset corregido:\n",
      "  region      estado   monto\n",
      "0  Norte  Completado  1500.0\n",
      "1  Norte   Pendiente  2500.0\n",
      "2  Norte  Completado  1200.0\n",
      "3    Sur   Pendiente  3000.0\n",
      "4    Sur  Completado   800.0\n",
      "5    Sur   Pendiente  2800.0\n",
      "region     object\n",
      "estado     object\n",
      "monto     float64\n",
      "dtype: object\n"
     ]
    }
   ],
   "source": [
    "# TODO: Corregir inconsistencias en este dataset:\n",
    "ventas_inconsistentes = pd.DataFrame({\n",
    "    'region': ['Norte', 'N', 'NORTE', 'Sur', 's', 'SUR'],\n",
    "    'estado': ['completado', 'PENDIENTE', 'Comp', 'pend', 'COMPLETADO', 'Pendiente'],\n",
    "    'monto': ['1,500', '2500', '1.200', '3,000', '800', '2.800']\n",
    "})\n",
    "\n",
    "# 1. Estandarizar regiones (Norte, Sur)\n",
    "# 2. Estandarizar estados (Completado, Pendiente)\n",
    "# 3. Convertir montos a números\n",
    "\n",
    "# Tu solución aquí:\n",
    "# Creamos una copia\n",
    "ventas_corregidas = ventas_inconsistentes.copy()\n",
    "\n",
    "def estandarizar_region(region):\n",
    "    region = region.strip().upper()\n",
    "    if region in ['Norte','N']:\n",
    "        return 'Norte'\n",
    "    elif region in ['SUR','S']:\n",
    "        return 'Sur'\n",
    "    else:\n",
    "        return region.title()\n",
    "ventas_corregidas['region'] = ventas_corregidas['region'].apply(estandarizar_region)\n",
    "\n",
    "# EStandarizar estados\n",
    "def estandarizar_estado(estado):\n",
    "    estado = estado.strip().lower()\n",
    "    if estado in ['completado', 'comp']:\n",
    "        return 'Completado'\n",
    "    elif estado in ['pendiente', 'pend']:\n",
    "        return 'Pendiente'\n",
    "    else:\n",
    "        return estado.title()\n",
    "\n",
    "ventas_corregidas['estado'] = ventas_corregidas['estado'].apply(estandarizar_estado)\n",
    "\n",
    "# convertir montos a numeros\n",
    "def convertir_monto(monto):\n",
    "    monto_str = str(monto).replace(',','').replace('.','')  # Eliminar caracteres no numéricos\n",
    "    try :\n",
    "        return float(monto_str)  # Convertir a float\n",
    "    except ValueError:\n",
    "        return 0.0\n",
    "ventas_corregidas['monto'] = ventas_corregidas['monto'].apply(convertir_monto)\n",
    "print(\"Dataset corregido:\")\n",
    "print(ventas_corregidas)\n",
    "print(ventas_corregidas.dtypes)"
   ]
  },
  {
   "cell_type": "code",
   "execution_count": null,
   "id": "df96cf3d",
   "metadata": {},
   "outputs": [],
   "source": []
  }
 ],
 "metadata": {
  "kernelspec": {
   "display_name": "base",
   "language": "python",
   "name": "python3"
  },
  "language_info": {
   "codemirror_mode": {
    "name": "ipython",
    "version": 3
   },
   "file_extension": ".py",
   "mimetype": "text/x-python",
   "name": "python",
   "nbconvert_exporter": "python",
   "pygments_lexer": "ipython3",
   "version": "3.11.9"
  }
 },
 "nbformat": 4,
 "nbformat_minor": 5
}
