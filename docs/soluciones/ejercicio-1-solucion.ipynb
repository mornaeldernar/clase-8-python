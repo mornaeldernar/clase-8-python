{
 "cells": [
  {
   "cell_type": "markdown",
   "id": "c5c558cb",
   "metadata": {},
   "source": [
    "importar datos"
   ]
  },
  {
   "cell_type": "code",
   "execution_count": 30,
   "id": "76ec378e",
   "metadata": {},
   "outputs": [
    {
     "name": "stdout",
     "output_type": "stream",
     "text": [
      "  proyecto_id    cliente  presupuesto  duracion_dias       estado  region\n",
      "0        P001  Empresa A        50000             30   Completado   Norte\n",
      "1        P002  Empresa B        75000             45  En Progreso     Sur\n",
      "2        P003  Empresa A        30000             20   Completado   Norte\n",
      "3        P004  Empresa C       120000             60    Retrasado  Centro\n",
      "4        P005  Empresa B        45000             25  En Progreso     Sur\n",
      "5        P006  Empresa D        90000             50   Completado   Norte\n"
     ]
    }
   ],
   "source": [
    "import pandas as pd\n",
    "import numpy as np\n",
    "\n",
    "# Datos de ejemplo: proyectos de consultoría\n",
    "proyectos = pd.DataFrame({\n",
    "    'proyecto_id': ['P001', 'P002', 'P003', 'P004', 'P005', 'P006'],\n",
    "    'cliente': ['Empresa A', 'Empresa B', 'Empresa A', 'Empresa C', 'Empresa B', 'Empresa D'],\n",
    "    'presupuesto': [50000, 75000, 30000, 120000, 45000, 90000],\n",
    "    'duracion_dias': [30, 45, 20, 60, 25, 50],\n",
    "    'estado': ['Completado', 'En Progreso', 'Completado', 'Retrasado', 'En Progreso', 'Completado'],\n",
    "    'region': ['Norte', 'Sur', 'Norte', 'Centro', 'Sur', 'Norte']\n",
    "})\n",
    "\n",
    "print(proyectos)"
   ]
  },
  {
   "cell_type": "code",
   "execution_count": 31,
   "id": "5d7ba508",
   "metadata": {},
   "outputs": [],
   "source": [
    "# TODO: Encuentra todos los proyectos que:\n",
    "# 1. Tengan un presupuesto mayor a 60,000\n",
    "# 2. Y estén en estado \"En Progreso\" o \"Retrasado\"\n",
    "\n",
    "# Tu solución aquí:"
   ]
  },
  {
   "cell_type": "code",
   "execution_count": 32,
   "id": "720e585b",
   "metadata": {},
   "outputs": [],
   "source": [
    "filtro_presupuesto = proyectos['presupuesto'] > 60000\n",
    "filtro_estado = proyectos['estado'].isin(['En Progreso', 'Retrasado'])"
   ]
  },
  {
   "cell_type": "code",
   "execution_count": 33,
   "id": "ed95d872",
   "metadata": {},
   "outputs": [
    {
     "name": "stdout",
     "output_type": "stream",
     "text": [
      "\n",
      "Proyectos con presupuesto mayor a 60,000 y el estado sea En Progreso o Retrasado:\n",
      "  proyecto_id    cliente  presupuesto  duracion_dias       estado  region\n",
      "1        P002  Empresa B        75000             45  En Progreso     Sur\n",
      "3        P004  Empresa C       120000             60    Retrasado  Centro\n"
     ]
    }
   ],
   "source": [
    "proyectos_presupuesto_alto = proyectos[filtro_presupuesto & filtro_estado]\n",
    "print(\"\\nProyectos con presupuesto mayor a 60,000 y el estado sea En Progreso o Retrasado:\")\n",
    "print(proyectos_presupuesto_alto)"
   ]
  },
  {
   "cell_type": "markdown",
   "id": "2373122d",
   "metadata": {},
   "source": [
    "# TODO: Encuentra proyectos que:\n",
    "# 1. Sean de las regiones Norte o Centro\n",
    "# 2. Y pertenezcan a Empresa A o Empresa C\n",
    "\n",
    "# Tu solución aquí:"
   ]
  },
  {
   "cell_type": "code",
   "execution_count": 34,
   "id": "c83bfe06",
   "metadata": {},
   "outputs": [],
   "source": [
    "filtro_region = proyectos['region'].isin(['Norte', 'Centro'])\n",
    "filtro_empresa = proyectos['cliente'].isin(['Empresa A', 'Empresa C'])"
   ]
  },
  {
   "cell_type": "code",
   "execution_count": 35,
   "id": "00dc7060",
   "metadata": {},
   "outputs": [
    {
     "name": "stdout",
     "output_type": "stream",
     "text": [
      "\n",
      "Proyectos en las regiones Norte o Centro y con cliente Empresa [AB]:\n",
      "  proyecto_id    cliente  presupuesto  duracion_dias      estado  region\n",
      "0        P001  Empresa A        50000             30  Completado   Norte\n",
      "2        P003  Empresa A        30000             20  Completado   Norte\n",
      "3        P004  Empresa C       120000             60   Retrasado  Centro\n"
     ]
    }
   ],
   "source": [
    "proyectos_por_region_empresa = proyectos[filtro_region & filtro_empresa]\n",
    "print(\"\\nProyectos en las regiones Norte o Centro y con cliente Empresa [AB]:\") \n",
    "print(proyectos_por_region_empresa)"
   ]
  },
  {
   "cell_type": "code",
   "execution_count": 23,
   "id": "dd2d7d84",
   "metadata": {},
   "outputs": [
    {
     "name": "stdout",
     "output_type": "stream",
     "text": [
      "\n",
      "Proyectos que NO estén completados y NO sean de la región Sur:\n",
      "  proyecto_id    cliente  presupuesto  duracion_dias     estado  region\n",
      "3        P004  Empresa C       120000             60  Retrasado  Centro\n"
     ]
    }
   ],
   "source": [
    "# TODO: Encuentra proyectos que:\n",
    "# 1. NO estén completados\n",
    "# 2. Y NO sean de la región Sur\n",
    "\n",
    "# Tu solución aquí:\n",
    "filtro_no_completados = proyectos['estado'] == 'Completado'\n",
    "filtro_no_sur = proyectos['region'] == 'Sur'\n",
    "proyectos_no_completados_no_sur = proyectos[~filtro_no_completados & ~filtro_no_sur]\n",
    "print(\"\\nProyectos que NO estén completados y NO sean de la región Sur:\")\n",
    "print(proyectos_no_completados_no_sur)"
   ]
  },
  {
   "cell_type": "code",
   "execution_count": null,
   "id": "c9cbe71c",
   "metadata": {},
   "outputs": [],
   "source": []
  }
 ],
 "metadata": {
  "kernelspec": {
   "display_name": "base",
   "language": "python",
   "name": "python3"
  },
  "language_info": {
   "codemirror_mode": {
    "name": "ipython",
    "version": 3
   },
   "file_extension": ".py",
   "mimetype": "text/x-python",
   "name": "python",
   "nbconvert_exporter": "python",
   "pygments_lexer": "ipython3",
   "version": "3.11.9"
  }
 },
 "nbformat": 4,
 "nbformat_minor": 5
}
