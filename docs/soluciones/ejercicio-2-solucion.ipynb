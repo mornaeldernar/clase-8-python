{
 "cells": [
  {
   "cell_type": "code",
   "execution_count": 1,
   "id": "67597567",
   "metadata": {},
   "outputs": [
    {
     "name": "stdout",
     "output_type": "stream",
     "text": [
      "                      nombre departamento  salario  antiguedad  evaluacion  \\\n",
      "empleado_id                                                                  \n",
      "E001              Ana García  Consultoría    65000           3         8.5   \n",
      "E002            Carlos López           IT    70000           5         9.2   \n",
      "E003         María Rodriguez  Consultoría    62000           2         7.8   \n",
      "E004              Juan Pérez     Finanzas    75000           7         9.0   \n",
      "E005            Laura Martín           IT    68000           4         8.8   \n",
      "\n",
      "                ciudad  \n",
      "empleado_id             \n",
      "E001            Madrid  \n",
      "E002         Barcelona  \n",
      "E003            Madrid  \n",
      "E004          Valencia  \n",
      "E005         Barcelona  \n"
     ]
    }
   ],
   "source": [
    "import pandas as pd\n",
    "import numpy as np\n",
    "\n",
    "# Dataset de empleados para consultoría\n",
    "empleados = pd.DataFrame({\n",
    "    'empleado_id': ['E001', 'E002', 'E003', 'E004', 'E005', 'E006', 'E007', 'E008'],\n",
    "    'nombre': ['Ana García', 'Carlos López', 'María Rodriguez', 'Juan Pérez', \n",
    "               'Laura Martín', 'Pedro Sánchez', 'Sofia Hernández', 'Diego Torres'],\n",
    "    'departamento': ['Consultoría', 'IT', 'Consultoría', 'Finanzas', 'IT', 'Consultoría', 'Finanzas', 'IT'],\n",
    "    'salario': [65000, 70000, 62000, 75000, 68000, 67000, 72000, 69000],\n",
    "    'antiguedad': [3, 5, 2, 7, 4, 6, 3, 1],\n",
    "    'evaluacion': [8.5, 9.2, 7.8, 9.0, 8.8, 8.2, 9.1, 7.5],\n",
    "    'ciudad': ['Madrid', 'Barcelona', 'Madrid', 'Valencia', 'Barcelona', 'Madrid', 'Valencia', 'Barcelona']\n",
    "})\n",
    "\n",
    "# Configurar índice personalizado\n",
    "empleados.set_index('empleado_id', inplace=True)\n",
    "print(empleados.head())"
   ]
  },
  {
   "cell_type": "markdown",
   "id": "fd17889c",
   "metadata": {},
   "source": [
    "# TODO: Usando loc, selecciona:\n",
    "# 1. Empleados E002, E004, E006\n",
    "# 2. Solo las columnas: nombre, departamento, salario\n",
    "# Tu solución aquí:"
   ]
  },
  {
   "cell_type": "code",
   "execution_count": 2,
   "id": "1fcb6243",
   "metadata": {},
   "outputs": [
    {
     "name": "stdout",
     "output_type": "stream",
     "text": [
      "\n",
      "Empleados seleccionados por departamento y salario:\n",
      "                    nombre departamento  salario\n",
      "empleado_id                                     \n",
      "E002          Carlos López           IT    70000\n",
      "E004            Juan Pérez     Finanzas    75000\n",
      "E006         Pedro Sánchez  Consultoría    67000\n"
     ]
    }
   ],
   "source": [
    "emplados_por_departamento = empleados.loc[['E002', 'E004', 'E006'], ['nombre', 'departamento', 'salario']]\n",
    "print(\"\\nEmpleados seleccionados por departamento y salario:\")\n",
    "print(emplados_por_departamento)"
   ]
  },
  {
   "cell_type": "markdown",
   "id": "d5fb15a7",
   "metadata": {},
   "source": [
    "# TODO: Encuentra empleados que:\n",
    "# 1. Trabajen en Madrid O Barcelona\n",
    "# 2. Tengan evaluación >= 8.0\n",
    "# 3. Muestren solo: nombre, ciudad, evaluacion, salario\n",
    "# Tu solución aquí:"
   ]
  },
  {
   "cell_type": "code",
   "execution_count": 3,
   "id": "b8aec683",
   "metadata": {},
   "outputs": [
    {
     "name": "stdout",
     "output_type": "stream",
     "text": [
      "\n",
      "Empleados en Madrid o Barcelona con evaluación >= 8.0:\n",
      "                    nombre     ciudad  evaluacion  salario\n",
      "empleado_id                                               \n",
      "E001            Ana García     Madrid         8.5    65000\n",
      "E002          Carlos López  Barcelona         9.2    70000\n",
      "E005          Laura Martín  Barcelona         8.8    68000\n",
      "E006         Pedro Sánchez     Madrid         8.2    67000\n"
     ]
    }
   ],
   "source": [
    "empleados_filtrados = empleados.loc[\n",
    "    (empleados['ciudad'].isin(['Madrid', 'Barcelona'])) & \n",
    "    (empleados['evaluacion'] >= 8.0),\n",
    "    ['nombre', 'ciudad', 'evaluacion', 'salario']\n",
    "]\n",
    "print(\"\\nEmpleados en Madrid o Barcelona con evaluación >= 8.0:\")\n",
    "print(empleados_filtrados)"
   ]
  },
  {
   "cell_type": "markdown",
   "id": "eafd26c7",
   "metadata": {},
   "source": [
    "# TODO: Usando iloc:\n",
    "# 1. Selecciona los últimos 3 empleados\n",
    "# 2. Solo las primeras 4 columnas\n",
    "# Tu solución aquí:"
   ]
  },
  {
   "cell_type": "code",
   "execution_count": 4,
   "id": "a97f186d",
   "metadata": {},
   "outputs": [
    {
     "name": "stdout",
     "output_type": "stream",
     "text": [
      "\n",
      "Últimos 3 empleados con las primeras 4 columnas:\n",
      "                      nombre departamento  salario  antiguedad\n",
      "empleado_id                                                   \n",
      "E006           Pedro Sánchez  Consultoría    67000           6\n",
      "E007         Sofia Hernández     Finanzas    72000           3\n",
      "E008            Diego Torres           IT    69000           1\n"
     ]
    }
   ],
   "source": [
    "ultimos_empleados = empleados.iloc[-3:,:4]\n",
    "print(\"\\nÚltimos 3 empleados con las primeras 4 columnas:\")\n",
    "print(ultimos_empleados)"
   ]
  }
 ],
 "metadata": {
  "kernelspec": {
   "display_name": "base",
   "language": "python",
   "name": "python3"
  },
  "language_info": {
   "codemirror_mode": {
    "name": "ipython",
    "version": 3
   },
   "file_extension": ".py",
   "mimetype": "text/x-python",
   "name": "python",
   "nbconvert_exporter": "python",
   "pygments_lexer": "ipython3",
   "version": "3.11.9"
  }
 },
 "nbformat": 4,
 "nbformat_minor": 5
}
